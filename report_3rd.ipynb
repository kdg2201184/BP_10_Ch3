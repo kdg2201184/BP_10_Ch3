{
  "nbformat": 4,
  "nbformat_minor": 0,
  "metadata": {
    "colab": {
      "provenance": [],
      "authorship_tag": "ABX9TyO6gCf0714SjG4uPpvKvfH1",
      "include_colab_link": true
    },
    "kernelspec": {
      "name": "python3",
      "display_name": "Python 3"
    },
    "language_info": {
      "name": "python"
    }
  },
  "cells": [
    {
      "cell_type": "markdown",
      "metadata": {
        "id": "view-in-github",
        "colab_type": "text"
      },
      "source": [
        "<a href=\"https://colab.research.google.com/github/kdg2201184/BP_10_Ch3/blob/main/report_3rd.ipynb\" target=\"_parent\"><img src=\"https://colab.research.google.com/assets/colab-badge.svg\" alt=\"Open In Colab\"/></a>"
      ]
    },
    {
      "cell_type": "code",
      "execution_count": 1,
      "metadata": {
        "colab": {
          "base_uri": "https://localhost:8080/"
        },
        "id": "KSE20Uio9_XO",
        "outputId": "b2ae1483-9cf3-42ab-bee5-4a9c3cb89579"
      },
      "outputs": [
        {
          "output_type": "stream",
          "name": "stdout",
          "text": [
            "x의 값을 입력하시오.:10\n",
            "y의 값을 입력하시오.:20\n",
            "x와 y의 합은:  30\n",
            "x와 y의 차는:  -10\n",
            "x와 y의 곱은:  200\n",
            "x와 y의 평균 15.0\n",
            "x와 y 큰수는?:  20\n",
            "x와 y 작은수는?:  10\n"
          ]
        }
      ],
      "source": [
        "x = int(input(\"x의 값을 입력하시오.:\"))\n",
        "y = int(input(\"y의 값을 입력하시오.:\"))\n",
        "\n",
        "print(\"x와 y의 합은: \",x + y)\n",
        "print(\"x와 y의 차는: \",x - y)\n",
        "print(\"x와 y의 곱은: \", x * y)\n",
        "print(\"x와 y의 평균\", ((x + y)/2))\n",
        "print(\"x와 y 큰수는?: \", max(x, y))\n",
        "print(\"x와 y 작은수는?: \", min(x, y))"
      ]
    },
    {
      "cell_type": "code",
      "source": [
        "r = float(input(\"r 값을 입력하시오: \"))  # 변수 r의 값을 float 형으로 사용자로부터 받는다.\n",
        "h = float(input(\"h 값을 입력하시오: \"))  # 변수 h의 값을 float 형으로 사용자로부터 받는다.\n",
        "vol = 3.141592 * r**2 * h\n",
        "\n",
        "print(\"원기둥의 부피는: \", vol, \"입니다.\")"
      ],
      "metadata": {
        "colab": {
          "base_uri": "https://localhost:8080/"
        },
        "id": "MIq5e907-1Aa",
        "outputId": "a2b0d314-c3e7-44d5-8c34-eed0fff33a4e"
      },
      "execution_count": 2,
      "outputs": [
        {
          "output_type": "stream",
          "name": "stdout",
          "text": [
            "r 값을 입력하시오: 10\n",
            "h 값을 입력하시오: 100\n",
            "원기둥의 부피는:  31415.92 입니다.\n"
          ]
        }
      ]
    },
    {
      "cell_type": "code",
      "source": [
        "number = int(input(\"정수를 입력하시오: \"))\n",
        "sum = 0       # 변수 sum을 초기화 0으로 한다.\n",
        "sum = sum + number % 10\n",
        "number = number // 10\n",
        "sum = sum + number % 10\n",
        "number = number // 10\n",
        "sum = sum+ number % 10\n",
        "number = number // 10\n",
        "sum = sum + number % 10\n",
        "number = number //10 \n",
        "print(\"자릿수의 합: \", str(sum))"
      ],
      "metadata": {
        "colab": {
          "base_uri": "https://localhost:8080/"
        },
        "id": "z0BpPInO__fT",
        "outputId": "46ef7850-cc08-45d1-a1ed-722c453b2a4e"
      },
      "execution_count": 3,
      "outputs": [
        {
          "output_type": "stream",
          "name": "stdout",
          "text": [
            "정수를 입력하시오: 12345\n",
            "자릿수의 합:  14\n"
          ]
        }
      ]
    },
    {
      "cell_type": "code",
      "source": [
        "x1 = int(input(\"x1의 값: \"))\n",
        "y1 = int(input(\"y1의 값: \"))\n",
        "\n",
        "x2 = int(input(\"x2의 값: \"))\n",
        "y2 = int(input(\"y2의 값: \"))\n",
        "\n",
        "dist = ((x2 - x1)**2 + (y2 - y1)**2)**0.5\n",
        "\n",
        "print(\"두점 사이의 거리 =\", dist, \"입니다.\")"
      ],
      "metadata": {
        "colab": {
          "base_uri": "https://localhost:8080/"
        },
        "id": "EWZwth4tAPmW",
        "outputId": "690047fd-13cd-4a25-878a-a736f74228fa"
      },
      "execution_count": 5,
      "outputs": [
        {
          "output_type": "stream",
          "name": "stdout",
          "text": [
            "x1의 값: 0\n",
            "y1의 값: 0\n",
            "x2의 값: 100\n",
            "y2의 값: 100\n",
            "두점 사이의 거리 = 141.4213562373095 입니다.\n"
          ]
        }
      ]
    },
    {
      "cell_type": "code",
      "source": [
        "import time\n",
        "fsecond = time.time()\n",
        "total_sec = int(fsecond)\n",
        "total_min = total_sec // 60\n",
        "minute = total_min % 60\n",
        "total_hour = total_min // 60\n",
        "hour = total_hour % 24\n",
        "\n",
        "print(\"현재시각은 (영국 그리니치 표준시각): \", str(hour) + \"시\" + str(minute) + \"분\")"
      ],
      "metadata": {
        "colab": {
          "base_uri": "https://localhost:8080/"
        },
        "id": "SiOD6FMxAdd6",
        "outputId": "3f11c7b2-8094-4db3-aa4d-9b2d4dc73b2d"
      },
      "execution_count": 10,
      "outputs": [
        {
          "output_type": "stream",
          "name": "stdout",
          "text": [
            "현재시각은 (영국 그리니치 표준시각):  15시7분\n"
          ]
        }
      ]
    },
    {
      "cell_type": "code",
      "source": [
        "import turtle\n",
        "t = turtle.Turtle()\n",
        "t.shape(\"turtle\")\n",
        "\n",
        "t.left(45)\n",
        "t.forward(141)\n",
        "\n",
        "t.setheading(0)\n",
        "t.goto(0, 0)\n",
        "t.forward(100)\n",
        "t.left(90)\n",
        "t.forward(100)\n",
        "t._screen.exitonclick() #화면을 마우스로 클릭해야 종료되게 하는 부분\n",
        "\n"
      ],
      "metadata": {
        "id": "NkVZGmpuAi_C"
      },
      "execution_count": null,
      "outputs": []
    },
    {
      "cell_type": "code",
      "source": [
        "import turtle\n",
        "import math\n",
        "t = turtle.Turtle()\n",
        "t.shape(\"turtle\")\n",
        "\n",
        "x1 = int(input(\"x1: \"))\n",
        "y1 = int(input(\"y1: \"))\n",
        "x2 = int(input(\"x2: \"))\n",
        "y2 = int(input(\"y2: \"))\n",
        "\n",
        "dist = math.sqrt((x2 - x1)**2 + (y2 - y1)**2)\n",
        "\n",
        "t.goto(x1, y1)\n",
        "t.goto(x2, y2)\n",
        "t.write(\"점의 길이 =\"+str(dist))"
      ],
      "metadata": {
        "id": "sAaZNgcVNgLP"
      },
      "execution_count": null,
      "outputs": []
    },
    {
      "cell_type": "code",
      "source": [
        "import time\n",
        "fseconds = time.time()\n",
        "min = int((fseconds //60) %60)\n",
        "hour = int(min//60)\n",
        "\n",
        "print(\"현재 시간(영국 그리니치 시각):\",hour,\"시\",min,\"분\")"
      ],
      "metadata": {
        "colab": {
          "base_uri": "https://localhost:8080/"
        },
        "id": "NpG2xIxILHK-",
        "outputId": "db2931e2-5c4d-48b3-8cda-98396f0121e3"
      },
      "execution_count": 9,
      "outputs": [
        {
          "output_type": "stream",
          "name": "stdout",
          "text": [
            "현재 시간(영국 그리니치 시각): 0 시 7 분\n"
          ]
        }
      ]
    },
    {
      "cell_type": "code",
      "source": [
        "x = int(input(\"물체의 무게 :\"))\n",
        "y = int(input(\"물체의 속도 :\"))\n",
        "\n",
        "print(\"물체는 \", 1/2*x*y**2, \"의 에너지를 가진다.\")"
      ],
      "metadata": {
        "colab": {
          "base_uri": "https://localhost:8080/"
        },
        "id": "vUuuh1I0LxQh",
        "outputId": "9dfa0db6-1dc9-4f89-ae30-e0d108fa4cfc"
      },
      "execution_count": 11,
      "outputs": [
        {
          "output_type": "stream",
          "name": "stdout",
          "text": [
            "물체의 무게 :100\n",
            "물체의 속도 :100\n",
            "물체는  500000.0 의 에너지를 가진다.\n"
          ]
        }
      ]
    }
  ]
}